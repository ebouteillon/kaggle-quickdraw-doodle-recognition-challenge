{
 "cells": [
  {
   "cell_type": "markdown",
   "metadata": {},
   "source": [
    "# Quick, Draw! Doodle Recognition Challenge\n",
    "\n",
    "PLEASE READ MY BLOG POST : https://medium.com/@bouteillon1981/10-lessons-learned-from-participating-to-google-ai-challenge-268b4aa87efa"
   ]
  },
  {
   "cell_type": "code",
   "execution_count": 1,
   "metadata": {},
   "outputs": [],
   "source": [
    "%matplotlib inline\n",
    "\n",
    "import ast\n",
    "from pathlib import Path\n",
    "import pprint\n",
    "import sqlite3\n",
    "\n",
    "import matplotlib.pyplot as plt\n",
    "import pandas as pd\n",
    "import numpy as np\n",
    "import cv2\n",
    "import torch\n",
    "\n",
    "from fastai import *\n",
    "from fastai.vision import *\n",
    "from fastai.callbacks import *\n",
    "import pretrainedmodels\n",
    "import torchvision\n",
    "\n",
    "from tqdm import tqdm"
   ]
  },
  {
   "cell_type": "markdown",
   "metadata": {},
   "source": [
    "Let's define some hyper-parameters for our notebook"
   ]
  },
  {
   "cell_type": "code",
   "execution_count": 2,
   "metadata": {},
   "outputs": [],
   "source": [
    "LIMIT_SAMPLES = 340*1_000\n",
    "NUM_VAL = 34_000\n",
    "sz = 128\n",
    "lw = 1\n",
    "bs = 1024"
   ]
  },
  {
   "cell_type": "markdown",
   "metadata": {},
   "source": [
    "### Drawing functions\n",
    "\n",
    "`list2drawing` convert a list of strokes to an image.\n",
    "\n",
    "Some ideas come from:\n",
    "\n",
    "Beluga's kernel: https://www.kaggle.com/gaborfodor/greyscale-mobilenet-lb-0-892\n",
    "\n",
    "Radek's post: https://www.kaggle.com/c/quickdraw-doodle-recognition/discussion/69409"
   ]
  },
  {
   "cell_type": "code",
   "execution_count": 3,
   "metadata": {},
   "outputs": [],
   "source": [
    "BASE_SIZE = 256\n",
    "border = 2  # keep some margin with image border\n",
    "\n",
    "shift_colors = (\n",
    "    (255, 0, 0),\n",
    "    (255, 128, 0),\n",
    "    (255, 255, 0),\n",
    "    (128, 255, 0),\n",
    "    (0, 255, 0),\n",
    "    (0, 255, 128),\n",
    "    (0, 255, 255),\n",
    "    (0, 128, 255),\n",
    "    (0, 0, 255),\n",
    "    (128, 0, 255),\n",
    "    (255, 0, 255),\n",
    "    (255, 0, 128)\n",
    ")\n",
    "\n",
    "\n",
    "def list2drawing(raw_strokes, size):\n",
    "    img = np.zeros((size, size, 3), np.uint8)\n",
    "    coef = (size - 2 * lw - 2 * border) / (BASE_SIZE - 1)\n",
    "    nb_stokes = len(raw_strokes)\n",
    "    for t, stroke in enumerate(raw_strokes[::-1]):\n",
    "        rgb = shift_colors[(nb_stokes-t-1)%12]\n",
    "\n",
    "        for i in range(len(stroke[0]) - 1):\n",
    "            p1 = (int(coef * stroke[0][i] + lw + border), int(coef * stroke[1][i] + lw+ border))\n",
    "            p2 = (int(coef * stroke[0][i + 1] + lw + border), int(coef * stroke[1][i + 1] + lw + border))\n",
    "            _ = cv2.line(img, p1, p2, rgb, lw, cv2.LINE_AA)\n",
    "    return img\n",
    "\n",
    "\n",
    "def drawing2tensor(drawing):\n",
    "    rgb = drawing.transpose(2,0,1).astype(np.float32)\n",
    "    return torch.from_numpy(rgb)"
   ]
  },
  {
   "cell_type": "markdown",
   "metadata": {},
   "source": [
    "### Metrics\n",
    "\n",
    "`map3` is the metric used for this competition\n",
    "\n",
    "These functions are from https://github.com/benhamner/Metrics/blob/master/Python/ml_metrics/average_precision.py"
   ]
  },
  {
   "cell_type": "code",
   "execution_count": 4,
   "metadata": {},
   "outputs": [],
   "source": [
    "def apk(actual, predicted, k=10):\n",
    "    if len(predicted)>k:\n",
    "        predicted = predicted[:k]\n",
    "\n",
    "    score = 0.0\n",
    "    num_hits = 0.0\n",
    "\n",
    "    for i,p in enumerate(predicted):\n",
    "        if p in actual and p not in predicted[:i]:\n",
    "            num_hits += 1.0\n",
    "            score += num_hits / (i+1.0)\n",
    "\n",
    "    if not actual:\n",
    "        return 0.0\n",
    "\n",
    "    return score / min(len(actual), k)\n",
    "\n",
    "def mapk(actual, predicted, k=10):\n",
    "    return np.mean([apk(a,p,k) for a,p in zip(actual, predicted)])\n",
    "\n",
    "def map3(preds, targs):\n",
    "    predicted_idxs = preds.sort(descending=True)[1]\n",
    "    top_3 = predicted_idxs[:, :3]\n",
    "    res = mapk([[t] for t in targs.cpu().numpy()], top_3.cpu().numpy(), 3)\n",
    "    return torch.tensor(res)"
   ]
  },
  {
   "cell_type": "markdown",
   "metadata": {},
   "source": [
    "### Submission Functions"
   ]
  },
  {
   "cell_type": "code",
   "execution_count": 5,
   "metadata": {},
   "outputs": [],
   "source": [
    "def top_3_preds(preds):\n",
    "    return np.argsort(preds.numpy())[:, ::-1][:, :3]\n",
    "\n",
    "\n",
    "def top_3_pred_labels(preds, classes):\n",
    "    top_3 = top_3_preds(preds)\n",
    "    labels = []\n",
    "    for i in range(top_3.shape[0]):\n",
    "        labels.append(' '.join([classes[idx] for idx in top_3[i]]))\n",
    "    return labels\n",
    "\n",
    "\n",
    "def create_submission(test_preds, test_dl, name, classes):\n",
    "    key_ids = test_dl.dataset.x.items\n",
    "    labels = top_3_pred_labels(test_preds, classes)\n",
    "    sub = pd.DataFrame({'key_id': key_ids, 'word': labels})\n",
    "    sub.to_csv(f'{name}.csv.gz', index=False, compression='gzip')"
   ]
  },
  {
   "cell_type": "markdown",
   "metadata": {},
   "source": [
    "###  Create ImageDataBunch using the data block API"
   ]
  },
  {
   "cell_type": "code",
   "execution_count": 6,
   "metadata": {},
   "outputs": [],
   "source": [
    "# open database in read only mode\n",
    "db = sqlite3.connect('file:/home/eric/jupyter-project/quickdraw-doodle-recognition/quickdraw_master/data/quickdraw_dataset.db?mode=ro', uri=True)\n",
    "c = db.cursor()"
   ]
  },
  {
   "cell_type": "code",
   "execution_count": 7,
   "metadata": {},
   "outputs": [
    {
     "name": "stdout",
     "output_type": "stream",
     "text": [
      "{0: 'airplane',\n",
      " 1: 'alarm_clock',\n",
      " 2: 'ambulance',\n",
      " 3: 'angel',\n",
      " 4: 'animal_migration',\n",
      " 5: 'ant',\n",
      " 6: 'anvil',\n",
      " 7: 'apple',\n",
      " 8: 'arm',\n",
      " 9: 'asparagus',\n",
      " 10: 'axe',\n",
      " 11: 'backpack',\n",
      " 12: 'banana',\n",
      " 13: 'bandage',\n",
      " 14: 'barn',\n",
      " 15: 'baseball',\n",
      " 16: 'baseball_bat',\n",
      " 17: 'basket',\n",
      " 18: 'basketball',\n",
      " 19: 'bat',\n",
      " 20: 'bathtub',\n",
      " 21: 'beach',\n",
      " 22: 'bear',\n",
      " 23: 'beard',\n",
      " 24: 'bed',\n",
      " 25: 'bee',\n",
      " 26: 'belt',\n",
      " 27: 'bench',\n",
      " 28: 'bicycle',\n",
      " 29: 'binoculars',\n",
      " 30: 'bird',\n",
      " 31: 'birthday_cake',\n",
      " 32: 'blackberry',\n",
      " 33: 'blueberry',\n",
      " 34: 'book',\n",
      " 35: 'boomerang',\n",
      " 36: 'bottlecap',\n",
      " 37: 'bowtie',\n",
      " 38: 'bracelet',\n",
      " 39: 'brain',\n",
      " 40: 'bread',\n",
      " 41: 'bridge',\n",
      " 42: 'broccoli',\n",
      " 43: 'broom',\n",
      " 44: 'bucket',\n",
      " 45: 'bulldozer',\n",
      " 46: 'bus',\n",
      " 47: 'bush',\n",
      " 48: 'butterfly',\n",
      " 49: 'cactus',\n",
      " 50: 'cake',\n",
      " 51: 'calculator',\n",
      " 52: 'calendar',\n",
      " 53: 'camel',\n",
      " 54: 'camera',\n",
      " 55: 'camouflage',\n",
      " 56: 'campfire',\n",
      " 57: 'candle',\n",
      " 58: 'cannon',\n",
      " 59: 'canoe',\n",
      " 60: 'car',\n",
      " 61: 'carrot',\n",
      " 62: 'castle',\n",
      " 63: 'cat',\n",
      " 64: 'ceiling_fan',\n",
      " 65: 'cell_phone',\n",
      " 66: 'cello',\n",
      " 67: 'chair',\n",
      " 68: 'chandelier',\n",
      " 69: 'church',\n",
      " 70: 'circle',\n",
      " 71: 'clarinet',\n",
      " 72: 'clock',\n",
      " 73: 'cloud',\n",
      " 74: 'coffee_cup',\n",
      " 75: 'compass',\n",
      " 76: 'computer',\n",
      " 77: 'cookie',\n",
      " 78: 'cooler',\n",
      " 79: 'couch',\n",
      " 80: 'cow',\n",
      " 81: 'crab',\n",
      " 82: 'crayon',\n",
      " 83: 'crocodile',\n",
      " 84: 'crown',\n",
      " 85: 'cruise_ship',\n",
      " 86: 'cup',\n",
      " 87: 'diamond',\n",
      " 88: 'dishwasher',\n",
      " 89: 'diving_board',\n",
      " 90: 'dog',\n",
      " 91: 'dolphin',\n",
      " 92: 'donut',\n",
      " 93: 'door',\n",
      " 94: 'dragon',\n",
      " 95: 'dresser',\n",
      " 96: 'drill',\n",
      " 97: 'drums',\n",
      " 98: 'duck',\n",
      " 99: 'dumbbell',\n",
      " 100: 'ear',\n",
      " 101: 'elbow',\n",
      " 102: 'elephant',\n",
      " 103: 'envelope',\n",
      " 104: 'eraser',\n",
      " 105: 'eye',\n",
      " 106: 'eyeglasses',\n",
      " 107: 'face',\n",
      " 108: 'fan',\n",
      " 109: 'feather',\n",
      " 110: 'fence',\n",
      " 111: 'finger',\n",
      " 112: 'fire_hydrant',\n",
      " 113: 'fireplace',\n",
      " 114: 'firetruck',\n",
      " 115: 'fish',\n",
      " 116: 'flamingo',\n",
      " 117: 'flashlight',\n",
      " 118: 'flip_flops',\n",
      " 119: 'floor_lamp',\n",
      " 120: 'flower',\n",
      " 121: 'flying_saucer',\n",
      " 122: 'foot',\n",
      " 123: 'fork',\n",
      " 124: 'frog',\n",
      " 125: 'frying_pan',\n",
      " 126: 'garden',\n",
      " 127: 'garden_hose',\n",
      " 128: 'giraffe',\n",
      " 129: 'goatee',\n",
      " 130: 'golf_club',\n",
      " 131: 'grapes',\n",
      " 132: 'grass',\n",
      " 133: 'guitar',\n",
      " 134: 'hamburger',\n",
      " 135: 'hammer',\n",
      " 136: 'hand',\n",
      " 137: 'harp',\n",
      " 138: 'hat',\n",
      " 139: 'headphones',\n",
      " 140: 'hedgehog',\n",
      " 141: 'helicopter',\n",
      " 142: 'helmet',\n",
      " 143: 'hexagon',\n",
      " 144: 'hockey_puck',\n",
      " 145: 'hockey_stick',\n",
      " 146: 'horse',\n",
      " 147: 'hospital',\n",
      " 148: 'hot_air_balloon',\n",
      " 149: 'hot_dog',\n",
      " 150: 'hot_tub',\n",
      " 151: 'hourglass',\n",
      " 152: 'house',\n",
      " 153: 'house_plant',\n",
      " 154: 'hurricane',\n",
      " 155: 'ice_cream',\n",
      " 156: 'jacket',\n",
      " 157: 'jail',\n",
      " 158: 'kangaroo',\n",
      " 159: 'key',\n",
      " 160: 'keyboard',\n",
      " 161: 'knee',\n",
      " 162: 'ladder',\n",
      " 163: 'lantern',\n",
      " 164: 'laptop',\n",
      " 165: 'leaf',\n",
      " 166: 'leg',\n",
      " 167: 'light_bulb',\n",
      " 168: 'lighthouse',\n",
      " 169: 'lightning',\n",
      " 170: 'line',\n",
      " 171: 'lion',\n",
      " 172: 'lipstick',\n",
      " 173: 'lobster',\n",
      " 174: 'lollipop',\n",
      " 175: 'mailbox',\n",
      " 176: 'map',\n",
      " 177: 'marker',\n",
      " 178: 'matches',\n",
      " 179: 'megaphone',\n",
      " 180: 'mermaid',\n",
      " 181: 'microphone',\n",
      " 182: 'microwave',\n",
      " 183: 'monkey',\n",
      " 184: 'moon',\n",
      " 185: 'mosquito',\n",
      " 186: 'motorbike',\n",
      " 187: 'mountain',\n",
      " 188: 'mouse',\n",
      " 189: 'moustache',\n",
      " 190: 'mouth',\n",
      " 191: 'mug',\n",
      " 192: 'mushroom',\n",
      " 193: 'nail',\n",
      " 194: 'necklace',\n",
      " 195: 'nose',\n",
      " 196: 'ocean',\n",
      " 197: 'octagon',\n",
      " 198: 'octopus',\n",
      " 199: 'onion',\n",
      " 200: 'oven',\n",
      " 201: 'owl',\n",
      " 202: 'paint_can',\n",
      " 203: 'paintbrush',\n",
      " 204: 'palm_tree',\n",
      " 205: 'panda',\n",
      " 206: 'pants',\n",
      " 207: 'paper_clip',\n",
      " 208: 'parachute',\n",
      " 209: 'parrot',\n",
      " 210: 'passport',\n",
      " 211: 'peanut',\n",
      " 212: 'pear',\n",
      " 213: 'peas',\n",
      " 214: 'pencil',\n",
      " 215: 'penguin',\n",
      " 216: 'piano',\n",
      " 217: 'pickup_truck',\n",
      " 218: 'picture_frame',\n",
      " 219: 'pig',\n",
      " 220: 'pillow',\n",
      " 221: 'pineapple',\n",
      " 222: 'pizza',\n",
      " 223: 'pliers',\n",
      " 224: 'police_car',\n",
      " 225: 'pond',\n",
      " 226: 'pool',\n",
      " 227: 'popsicle',\n",
      " 228: 'postcard',\n",
      " 229: 'potato',\n",
      " 230: 'power_outlet',\n",
      " 231: 'purse',\n",
      " 232: 'rabbit',\n",
      " 233: 'raccoon',\n",
      " 234: 'radio',\n",
      " 235: 'rain',\n",
      " 236: 'rainbow',\n",
      " 237: 'rake',\n",
      " 238: 'remote_control',\n",
      " 239: 'rhinoceros',\n",
      " 240: 'river',\n",
      " 241: 'roller_coaster',\n",
      " 242: 'rollerskates',\n",
      " 243: 'sailboat',\n",
      " 244: 'sandwich',\n",
      " 245: 'saw',\n",
      " 246: 'saxophone',\n",
      " 247: 'school_bus',\n",
      " 248: 'scissors',\n",
      " 249: 'scorpion',\n",
      " 250: 'screwdriver',\n",
      " 251: 'sea_turtle',\n",
      " 252: 'see_saw',\n",
      " 253: 'shark',\n",
      " 254: 'sheep',\n",
      " 255: 'shoe',\n",
      " 256: 'shorts',\n",
      " 257: 'shovel',\n",
      " 258: 'sink',\n",
      " 259: 'skateboard',\n",
      " 260: 'skull',\n",
      " 261: 'skyscraper',\n",
      " 262: 'sleeping_bag',\n",
      " 263: 'smiley_face',\n",
      " 264: 'snail',\n",
      " 265: 'snake',\n",
      " 266: 'snorkel',\n",
      " 267: 'snowflake',\n",
      " 268: 'snowman',\n",
      " 269: 'soccer_ball',\n",
      " 270: 'sock',\n",
      " 271: 'speedboat',\n",
      " 272: 'spider',\n",
      " 273: 'spoon',\n",
      " 274: 'spreadsheet',\n",
      " 275: 'square',\n",
      " 276: 'squiggle',\n",
      " 277: 'squirrel',\n",
      " 278: 'stairs',\n",
      " 279: 'star',\n",
      " 280: 'steak',\n",
      " 281: 'stereo',\n",
      " 282: 'stethoscope',\n",
      " 283: 'stitches',\n",
      " 284: 'stop_sign',\n",
      " 285: 'stove',\n",
      " 286: 'strawberry',\n",
      " 287: 'streetlight',\n",
      " 288: 'string_bean',\n",
      " 289: 'submarine',\n",
      " 290: 'suitcase',\n",
      " 291: 'sun',\n",
      " 292: 'swan',\n",
      " 293: 'sweater',\n",
      " 294: 'swing_set',\n",
      " 295: 'sword',\n",
      " 296: 't-shirt',\n",
      " 297: 'table',\n",
      " 298: 'teapot',\n",
      " 299: 'teddy-bear',\n",
      " 300: 'telephone',\n",
      " 301: 'television',\n",
      " 302: 'tennis_racquet',\n",
      " 303: 'tent',\n",
      " 304: 'The_Eiffel_Tower',\n",
      " 305: 'The_Great_Wall_of_China',\n",
      " 306: 'The_Mona_Lisa',\n",
      " 307: 'tiger',\n",
      " 308: 'toaster',\n",
      " 309: 'toe',\n",
      " 310: 'toilet',\n",
      " 311: 'tooth',\n",
      " 312: 'toothbrush',\n",
      " 313: 'toothpaste',\n",
      " 314: 'tornado',\n",
      " 315: 'tractor',\n",
      " 316: 'traffic_light',\n",
      " 317: 'train',\n",
      " 318: 'tree',\n",
      " 319: 'triangle',\n",
      " 320: 'trombone',\n",
      " 321: 'truck',\n",
      " 322: 'trumpet',\n",
      " 323: 'umbrella',\n",
      " 324: 'underwear',\n",
      " 325: 'van',\n",
      " 326: 'vase',\n",
      " 327: 'violin',\n",
      " 328: 'washing_machine',\n",
      " 329: 'watermelon',\n",
      " 330: 'waterslide',\n",
      " 331: 'whale',\n",
      " 332: 'wheel',\n",
      " 333: 'windmill',\n",
      " 334: 'wine_bottle',\n",
      " 335: 'wine_glass',\n",
      " 336: 'wristwatch',\n",
      " 337: 'yoga',\n",
      " 338: 'zebra',\n",
      " 339: 'zigzag'}\n"
     ]
    }
   ],
   "source": [
    "# Get list of classes\n",
    "c.execute('SELECT y,label from classes ORDER BY y')\n",
    "db_classes = c.fetchall()\n",
    "db_classes = {c[0]: c[1].replace(' ', '_') for c in db_classes}\n",
    "pprint.pprint(db_classes)"
   ]
  },
  {
   "cell_type": "code",
   "execution_count": 8,
   "metadata": {},
   "outputs": [
    {
     "name": "stdout",
     "output_type": "stream",
     "text": [
      "True number of labels in train: 49707579\n",
      "CPU times: user 21.5 s, sys: 10.2 s, total: 31.7 s\n",
      "Wall time: 2min 10s\n"
     ]
    }
   ],
   "source": [
    "%%time\n",
    "# Get labels for each items in our train dataset\n",
    "c.execute('SELECT key_id,y FROM train')\n",
    "train_labels = c.fetchall()\n",
    "print('True number of labels in train:', len(train_labels))"
   ]
  },
  {
   "cell_type": "code",
   "execution_count": 9,
   "metadata": {},
   "outputs": [
    {
     "data": {
      "text/plain": [
       "(340463, 340000)"
      ]
     },
     "execution_count": 9,
     "metadata": {},
     "output_type": "execute_result"
    }
   ],
   "source": [
    "# Get a limited piece of train dataset\n",
    "if LIMIT_SAMPLES is not None:\n",
    "    train_labels = train_labels[::len(train_labels)//LIMIT_SAMPLES]\n",
    "len(train_labels), LIMIT_SAMPLES"
   ]
  },
  {
   "cell_type": "code",
   "execution_count": 10,
   "metadata": {},
   "outputs": [
    {
     "data": {
      "text/html": [
       "<div>\n",
       "<style scoped>\n",
       "    .dataframe tbody tr th:only-of-type {\n",
       "        vertical-align: middle;\n",
       "    }\n",
       "\n",
       "    .dataframe tbody tr th {\n",
       "        vertical-align: top;\n",
       "    }\n",
       "\n",
       "    .dataframe thead th {\n",
       "        text-align: right;\n",
       "    }\n",
       "</style>\n",
       "<table border=\"1\" class=\"dataframe\">\n",
       "  <thead>\n",
       "    <tr style=\"text-align: right;\">\n",
       "      <th></th>\n",
       "      <th>key_id</th>\n",
       "      <th>y</th>\n",
       "    </tr>\n",
       "  </thead>\n",
       "  <tbody>\n",
       "    <tr>\n",
       "      <th>0</th>\n",
       "      <td>4503599667216384</td>\n",
       "      <td>watermelon</td>\n",
       "    </tr>\n",
       "    <tr>\n",
       "      <th>1</th>\n",
       "      <td>4503605690236928</td>\n",
       "      <td>basketball</td>\n",
       "    </tr>\n",
       "    <tr>\n",
       "      <th>2</th>\n",
       "      <td>4503612736667648</td>\n",
       "      <td>passport</td>\n",
       "    </tr>\n",
       "    <tr>\n",
       "      <th>3</th>\n",
       "      <td>4503618898100224</td>\n",
       "      <td>saxophone</td>\n",
       "    </tr>\n",
       "    <tr>\n",
       "      <th>4</th>\n",
       "      <td>4503626024222720</td>\n",
       "      <td>hospital</td>\n",
       "    </tr>\n",
       "  </tbody>\n",
       "</table>\n",
       "</div>"
      ],
      "text/plain": [
       "             key_id           y\n",
       "0  4503599667216384  watermelon\n",
       "1  4503605690236928  basketball\n",
       "2  4503612736667648    passport\n",
       "3  4503618898100224   saxophone\n",
       "4  4503626024222720    hospital"
      ]
     },
     "execution_count": 10,
     "metadata": {},
     "output_type": "execute_result"
    }
   ],
   "source": [
    "train_labels = pd.DataFrame.from_records(train_labels, columns=['key_id', 'y'])\n",
    "train_labels['y'] = train_labels['y'].map(db_classes).astype('category')\n",
    "train_labels.head()"
   ]
  },
  {
   "cell_type": "code",
   "execution_count": 11,
   "metadata": {},
   "outputs": [
    {
     "name": "stdout",
     "output_type": "stream",
     "text": [
      "Number of samples in tests: 112199\n",
      "CPU times: user 67.3 ms, sys: 26.6 ms, total: 94 ms\n",
      "Wall time: 218 ms\n"
     ]
    }
   ],
   "source": [
    "%%time\n",
    "# Get list of test items\n",
    "c.execute('SELECT key_id FROM test')\n",
    "tests = c.fetchall()\n",
    "print('Number of samples in tests:', len(tests))\n",
    "tests = pd.DataFrame.from_records(tests, columns=['key_id'])\n",
    "tests.head()"
   ]
  },
  {
   "cell_type": "code",
   "execution_count": 12,
   "metadata": {},
   "outputs": [],
   "source": [
    "# Callback of parallel workers\n",
    "from multiprocessing import Lock\n",
    "lock = Lock()\n",
    "\n",
    "def create_func(path):\n",
    "    global c\n",
    "    key_id = int(path)\n",
    "    lock.acquire()  # meh!\n",
    "    if path < 9000000000000000:\n",
    "        c.execute(f'SELECT drawing from train WHERE key_id=?', (key_id,))\n",
    "    else:\n",
    "        c.execute(f'SELECT drawing from test WHERE key_id=?', (key_id,))\n",
    "    drawing = c.fetchone()\n",
    "    lock.release()\n",
    "    \n",
    "    if drawing is None:\n",
    "        print('got None for', path)\n",
    "    drawing = drawing[0]\n",
    "    drawing = ast.literal_eval(drawing)\n",
    "    drawing = list2drawing(drawing, size=sz)\n",
    "    tensor = drawing2tensor(drawing)\n",
    "    return Image(tensor.div_(255))"
   ]
  },
  {
   "cell_type": "code",
   "execution_count": 13,
   "metadata": {},
   "outputs": [],
   "source": [
    "item_list = ItemList.from_df(df=train_labels, create_func=create_func, cols='key_id')"
   ]
  },
  {
   "cell_type": "code",
   "execution_count": 14,
   "metadata": {},
   "outputs": [],
   "source": [
    "idxs = np.arange(item_list.items.shape[0])\n",
    "np.random.shuffle(idxs)\n",
    "val_idxs = idxs[:NUM_VAL]"
   ]
  },
  {
   "cell_type": "code",
   "execution_count": 15,
   "metadata": {},
   "outputs": [],
   "source": [
    "item_lists = item_list.split_by_idx(val_idxs)"
   ]
  },
  {
   "cell_type": "code",
   "execution_count": 16,
   "metadata": {},
   "outputs": [],
   "source": [
    "label_lists = item_lists.label_from_df(cols='y')\n",
    "\n",
    "test_items = ItemList.from_df(df=tests, create_func=create_func, cols='key_id')\n",
    "label_lists.add_test(test_items);"
   ]
  },
  {
   "cell_type": "code",
   "execution_count": 17,
   "metadata": {},
   "outputs": [
    {
     "data": {
      "text/plain": [
       "['watermelon',\n",
       " 'basketball',\n",
       " 'passport',\n",
       " 'saxophone',\n",
       " 'hospital',\n",
       " 'bottlecap',\n",
       " 'diving_board',\n",
       " 'teddy-bear',\n",
       " 'toothpaste',\n",
       " 'traffic_light',\n",
       " 'lipstick',\n",
       " 'hot_dog',\n",
       " 'stethoscope',\n",
       " 'paintbrush',\n",
       " 'key',\n",
       " 'blackberry',\n",
       " 'giraffe',\n",
       " 'rain',\n",
       " 'toothbrush',\n",
       " 'snorkel',\n",
       " 'piano',\n",
       " 'moon',\n",
       " 'pond',\n",
       " 'golf_club',\n",
       " 'soccer_ball',\n",
       " 'mouth',\n",
       " 'spider',\n",
       " 'moustache',\n",
       " 'strawberry',\n",
       " 'crocodile',\n",
       " 'The_Great_Wall_of_China',\n",
       " 'tree',\n",
       " 'penguin',\n",
       " 'scissors',\n",
       " 'face',\n",
       " 'square',\n",
       " 'keyboard',\n",
       " 'skyscraper',\n",
       " 'ant',\n",
       " 'basket',\n",
       " 'megaphone',\n",
       " 'roller_coaster',\n",
       " 'spoon',\n",
       " 'cello',\n",
       " 'tent',\n",
       " 'whale',\n",
       " 'mountain',\n",
       " 'shoe',\n",
       " 'steak',\n",
       " 'violin',\n",
       " 'truck',\n",
       " 'flashlight',\n",
       " 'map',\n",
       " 'hamburger',\n",
       " 'potato',\n",
       " 'firetruck',\n",
       " 'brain',\n",
       " 'sea_turtle',\n",
       " 'pizza',\n",
       " 'television',\n",
       " 'compass',\n",
       " 'cannon',\n",
       " 'screwdriver',\n",
       " 'eyeglasses',\n",
       " 'canoe',\n",
       " 'The_Eiffel_Tower',\n",
       " 'leg',\n",
       " 'smiley_face',\n",
       " 'goatee',\n",
       " 'postcard',\n",
       " 'baseball',\n",
       " 'remote_control',\n",
       " 'knee',\n",
       " 'snowman',\n",
       " 'flower',\n",
       " 'pencil',\n",
       " 'harp',\n",
       " 'arm',\n",
       " 'chair',\n",
       " 'pineapple',\n",
       " 'flip_flops',\n",
       " 'sailboat',\n",
       " 'skateboard',\n",
       " 'duck',\n",
       " 'cat',\n",
       " 'sandwich',\n",
       " 'flamingo',\n",
       " 'sleeping_bag',\n",
       " 'mouse',\n",
       " 'banana',\n",
       " 'car',\n",
       " 'helicopter',\n",
       " 'bicycle',\n",
       " 'palm_tree',\n",
       " 'drums',\n",
       " 'toe',\n",
       " 'kangaroo',\n",
       " 'blueberry',\n",
       " 'pants',\n",
       " 'crayon',\n",
       " 'guitar',\n",
       " 'rainbow',\n",
       " 'baseball_bat',\n",
       " 'camouflage',\n",
       " 'tornado',\n",
       " 'computer',\n",
       " 'bed',\n",
       " 'finger',\n",
       " 'stereo',\n",
       " 'shark',\n",
       " 'fire_hydrant',\n",
       " 'shorts',\n",
       " 'dragon',\n",
       " 'rake',\n",
       " 'clarinet',\n",
       " 'telephone',\n",
       " 'garden_hose',\n",
       " 'fish',\n",
       " 'garden',\n",
       " 'church',\n",
       " 'calendar',\n",
       " 'lion',\n",
       " 'power_outlet',\n",
       " 'ocean',\n",
       " 'laptop',\n",
       " 'camel',\n",
       " 'pliers',\n",
       " 'horse',\n",
       " 'cooler',\n",
       " 'candle',\n",
       " 'donut',\n",
       " 'stove',\n",
       " 'bread',\n",
       " 'hat',\n",
       " 'umbrella',\n",
       " 'fork',\n",
       " 'waterslide',\n",
       " 'birthday_cake',\n",
       " 'hot_air_balloon',\n",
       " 'van',\n",
       " 'panda',\n",
       " 'mermaid',\n",
       " 'sock',\n",
       " 'cloud',\n",
       " 'raccoon',\n",
       " 'anvil',\n",
       " 'hedgehog',\n",
       " 'stop_sign',\n",
       " 'carrot',\n",
       " 'ear',\n",
       " 'school_bus',\n",
       " 'speedboat',\n",
       " 'wine_glass',\n",
       " 'tractor',\n",
       " 'snail',\n",
       " 'motorbike',\n",
       " 'calculator',\n",
       " 'broom',\n",
       " 'dog',\n",
       " 'dumbbell',\n",
       " 'cake',\n",
       " 'oven',\n",
       " 'peanut',\n",
       " 'foot',\n",
       " 'grass',\n",
       " 'hockey_puck',\n",
       " 'cell_phone',\n",
       " 'hand',\n",
       " 'lantern',\n",
       " 'parrot',\n",
       " 'octopus',\n",
       " 'The_Mona_Lisa',\n",
       " 'elephant',\n",
       " 'belt',\n",
       " 'feather',\n",
       " 'underwear',\n",
       " 'house',\n",
       " 'yoga',\n",
       " 'hourglass',\n",
       " 'windmill',\n",
       " 'parachute',\n",
       " 'vase',\n",
       " 'shovel',\n",
       " 'castle',\n",
       " 'lightning',\n",
       " 'marker',\n",
       " 'bulldozer',\n",
       " 'toilet',\n",
       " 'purse',\n",
       " 'zigzag',\n",
       " 'bush',\n",
       " 'asparagus',\n",
       " 'hockey_stick',\n",
       " 'squiggle',\n",
       " 'fence',\n",
       " 'rollerskates',\n",
       " 'butterfly',\n",
       " 'drill',\n",
       " 'paper_clip',\n",
       " 'toaster',\n",
       " 'cookie',\n",
       " 'swing_set',\n",
       " 'bridge',\n",
       " 'crown',\n",
       " 'campfire',\n",
       " 'grapes',\n",
       " 'bee',\n",
       " 'sword',\n",
       " 'table',\n",
       " 'ice_cream',\n",
       " 'diamond',\n",
       " 'bowtie',\n",
       " 'nose',\n",
       " 'owl',\n",
       " 'wheel',\n",
       " 'mushroom',\n",
       " 'train',\n",
       " 'rhinoceros',\n",
       " 'barn',\n",
       " 'teapot',\n",
       " 'envelope',\n",
       " 'river',\n",
       " 'sun',\n",
       " 'fan',\n",
       " 'helmet',\n",
       " 'mailbox',\n",
       " 'cactus',\n",
       " 'cow',\n",
       " 'pear',\n",
       " 'microwave',\n",
       " 'wristwatch',\n",
       " 'trombone',\n",
       " 'sweater',\n",
       " 'beard',\n",
       " 'star',\n",
       " 'monkey',\n",
       " 'octagon',\n",
       " 'lighthouse',\n",
       " 'nail',\n",
       " 'beach',\n",
       " 'coffee_cup',\n",
       " 'flying_saucer',\n",
       " 'dishwasher',\n",
       " 'bracelet',\n",
       " 'string_bean',\n",
       " 'trumpet',\n",
       " 'paint_can',\n",
       " 'tennis_racquet',\n",
       " 'tiger',\n",
       " 'picture_frame',\n",
       " 'lollipop',\n",
       " 'popsicle',\n",
       " 'pig',\n",
       " 'bat',\n",
       " 'spreadsheet',\n",
       " 'submarine',\n",
       " 'light_bulb',\n",
       " 'sheep',\n",
       " 'animal_migration',\n",
       " 'skull',\n",
       " 'bucket',\n",
       " 'sink',\n",
       " 'crab',\n",
       " 'microphone',\n",
       " 'mug',\n",
       " 'saw',\n",
       " 'frog',\n",
       " 'jail',\n",
       " 'alarm_clock',\n",
       " 'matches',\n",
       " 'bus',\n",
       " 'dresser',\n",
       " 'snowflake',\n",
       " 'police_car',\n",
       " 'triangle',\n",
       " 'snake',\n",
       " 'cruise_ship',\n",
       " 'stitches',\n",
       " 'camera',\n",
       " 'apple',\n",
       " 'ladder',\n",
       " 'bathtub',\n",
       " 'cup',\n",
       " 'dolphin',\n",
       " 'streetlight',\n",
       " 'frying_pan',\n",
       " 'pickup_truck',\n",
       " 'lobster',\n",
       " 'pillow',\n",
       " 'mosquito',\n",
       " 'see_saw',\n",
       " 'bear',\n",
       " 'zebra',\n",
       " 'floor_lamp',\n",
       " 'hot_tub',\n",
       " 'book',\n",
       " 'hexagon',\n",
       " 'squirrel',\n",
       " 'scorpion',\n",
       " 't-shirt',\n",
       " 'necklace',\n",
       " 'pool',\n",
       " 'tooth',\n",
       " 'elbow',\n",
       " 'stairs',\n",
       " 'bird',\n",
       " 'door',\n",
       " 'eraser',\n",
       " 'swan',\n",
       " 'airplane',\n",
       " 'house_plant',\n",
       " 'headphones',\n",
       " 'radio',\n",
       " 'rabbit',\n",
       " 'washing_machine',\n",
       " 'fireplace',\n",
       " 'leaf',\n",
       " 'binoculars',\n",
       " 'chandelier',\n",
       " 'onion',\n",
       " 'axe',\n",
       " 'angel',\n",
       " 'bandage',\n",
       " 'ambulance',\n",
       " 'backpack',\n",
       " 'suitcase',\n",
       " 'eye',\n",
       " 'line',\n",
       " 'ceiling_fan',\n",
       " 'bench',\n",
       " 'hammer',\n",
       " 'boomerang',\n",
       " 'wine_bottle',\n",
       " 'jacket',\n",
       " 'circle',\n",
       " 'peas',\n",
       " 'broccoli',\n",
       " 'couch',\n",
       " 'clock',\n",
       " 'hurricane']"
      ]
     },
     "execution_count": 17,
     "metadata": {},
     "output_type": "execute_result"
    }
   ],
   "source": [
    "classes = label_lists.train.y.classes\n",
    "classes"
   ]
  },
  {
   "cell_type": "code",
   "execution_count": 18,
   "metadata": {},
   "outputs": [],
   "source": [
    "train_dl = DataLoader(label_lists.train, bs, True, num_workers=8)\n",
    "valid_dl = DataLoader(label_lists.valid, 2*bs, False, num_workers=8)\n",
    "test_dl = DataLoader(label_lists.test, 2*bs, False, num_workers=8)\n",
    "\n",
    "data_bunch = ImageDataBunch(train_dl, valid_dl, test_dl)"
   ]
  },
  {
   "cell_type": "code",
   "execution_count": 19,
   "metadata": {},
   "outputs": [
    {
     "data": {
      "image/png": "[encoded data removed]",
      "text/plain": [
       "<Figure size 648x720 with 9 Axes>"
      ]
     },
     "metadata": {
      "needs_background": "light"
     },
     "output_type": "display_data"
    }
   ],
   "source": [
    "data_bunch.show_batch(rows=3)"
   ]
  },
  {
   "cell_type": "markdown",
   "metadata": {},
   "source": [
    "### Create the CNN model"
   ]
  },
  {
   "cell_type": "code",
   "execution_count": 20,
   "metadata": {},
   "outputs": [],
   "source": [
    "custom_head=nn.Sequential(\n",
    "    nn.AdaptiveAvgPool2d(1),\n",
    "    Flatten(),\n",
    "    nn.Linear(512, len(classes))\n",
    ")"
   ]
  },
  {
   "cell_type": "code",
   "execution_count": 21,
   "metadata": {},
   "outputs": [],
   "source": [
    "model_name = 'resnet18-simple'\n",
    "learn = create_cnn(data_bunch, models.resnet18, metrics=[accuracy, map3], pretrained=False,\n",
    "                   cut=-2, split_on=None, custom_head=custom_head,\n",
    "                  ).to_fp16()"
   ]
  },
  {
   "cell_type": "code",
   "execution_count": 22,
   "metadata": {},
   "outputs": [
    {
     "data": {
      "text/plain": [
       "Sequential(\n",
       "  (0): Sequential(\n",
       "    (0): Conv2d(3, 64, kernel_size=(7, 7), stride=(2, 2), padding=(3, 3), bias=False)\n",
       "    (1): BatchNorm2d(64, eps=1e-05, momentum=0.1, affine=True, track_running_stats=True)\n",
       "    (2): ReLU(inplace)\n",
       "    (3): MaxPool2d(kernel_size=3, stride=2, padding=1, dilation=1, ceil_mode=False)\n",
       "    (4): Sequential(\n",
       "      (0): BasicBlock(\n",
       "        (conv1): Conv2d(64, 64, kernel_size=(3, 3), stride=(1, 1), padding=(1, 1), bias=False)\n",
       "        (bn1): BatchNorm2d(64, eps=1e-05, momentum=0.1, affine=True, track_running_stats=True)\n",
       "        (relu): ReLU(inplace)\n",
       "        (conv2): Conv2d(64, 64, kernel_size=(3, 3), stride=(1, 1), padding=(1, 1), bias=False)\n",
       "        (bn2): BatchNorm2d(64, eps=1e-05, momentum=0.1, affine=True, track_running_stats=True)\n",
       "      )\n",
       "      (1): BasicBlock(\n",
       "        (conv1): Conv2d(64, 64, kernel_size=(3, 3), stride=(1, 1), padding=(1, 1), bias=False)\n",
       "        (bn1): BatchNorm2d(64, eps=1e-05, momentum=0.1, affine=True, track_running_stats=True)\n",
       "        (relu): ReLU(inplace)\n",
       "        (conv2): Conv2d(64, 64, kernel_size=(3, 3), stride=(1, 1), padding=(1, 1), bias=False)\n",
       "        (bn2): BatchNorm2d(64, eps=1e-05, momentum=0.1, affine=True, track_running_stats=True)\n",
       "      )\n",
       "    )\n",
       "    (5): Sequential(\n",
       "      (0): BasicBlock(\n",
       "        (conv1): Conv2d(64, 128, kernel_size=(3, 3), stride=(2, 2), padding=(1, 1), bias=False)\n",
       "        (bn1): BatchNorm2d(128, eps=1e-05, momentum=0.1, affine=True, track_running_stats=True)\n",
       "        (relu): ReLU(inplace)\n",
       "        (conv2): Conv2d(128, 128, kernel_size=(3, 3), stride=(1, 1), padding=(1, 1), bias=False)\n",
       "        (bn2): BatchNorm2d(128, eps=1e-05, momentum=0.1, affine=True, track_running_stats=True)\n",
       "        (downsample): Sequential(\n",
       "          (0): Conv2d(64, 128, kernel_size=(1, 1), stride=(2, 2), bias=False)\n",
       "          (1): BatchNorm2d(128, eps=1e-05, momentum=0.1, affine=True, track_running_stats=True)\n",
       "        )\n",
       "      )\n",
       "      (1): BasicBlock(\n",
       "        (conv1): Conv2d(128, 128, kernel_size=(3, 3), stride=(1, 1), padding=(1, 1), bias=False)\n",
       "        (bn1): BatchNorm2d(128, eps=1e-05, momentum=0.1, affine=True, track_running_stats=True)\n",
       "        (relu): ReLU(inplace)\n",
       "        (conv2): Conv2d(128, 128, kernel_size=(3, 3), stride=(1, 1), padding=(1, 1), bias=False)\n",
       "        (bn2): BatchNorm2d(128, eps=1e-05, momentum=0.1, affine=True, track_running_stats=True)\n",
       "      )\n",
       "    )\n",
       "    (6): Sequential(\n",
       "      (0): BasicBlock(\n",
       "        (conv1): Conv2d(128, 256, kernel_size=(3, 3), stride=(2, 2), padding=(1, 1), bias=False)\n",
       "        (bn1): BatchNorm2d(256, eps=1e-05, momentum=0.1, affine=True, track_running_stats=True)\n",
       "        (relu): ReLU(inplace)\n",
       "        (conv2): Conv2d(256, 256, kernel_size=(3, 3), stride=(1, 1), padding=(1, 1), bias=False)\n",
       "        (bn2): BatchNorm2d(256, eps=1e-05, momentum=0.1, affine=True, track_running_stats=True)\n",
       "        (downsample): Sequential(\n",
       "          (0): Conv2d(128, 256, kernel_size=(1, 1), stride=(2, 2), bias=False)\n",
       "          (1): BatchNorm2d(256, eps=1e-05, momentum=0.1, affine=True, track_running_stats=True)\n",
       "        )\n",
       "      )\n",
       "      (1): BasicBlock(\n",
       "        (conv1): Conv2d(256, 256, kernel_size=(3, 3), stride=(1, 1), padding=(1, 1), bias=False)\n",
       "        (bn1): BatchNorm2d(256, eps=1e-05, momentum=0.1, affine=True, track_running_stats=True)\n",
       "        (relu): ReLU(inplace)\n",
       "        (conv2): Conv2d(256, 256, kernel_size=(3, 3), stride=(1, 1), padding=(1, 1), bias=False)\n",
       "        (bn2): BatchNorm2d(256, eps=1e-05, momentum=0.1, affine=True, track_running_stats=True)\n",
       "      )\n",
       "    )\n",
       "    (7): Sequential(\n",
       "      (0): BasicBlock(\n",
       "        (conv1): Conv2d(256, 512, kernel_size=(3, 3), stride=(2, 2), padding=(1, 1), bias=False)\n",
       "        (bn1): BatchNorm2d(512, eps=1e-05, momentum=0.1, affine=True, track_running_stats=True)\n",
       "        (relu): ReLU(inplace)\n",
       "        (conv2): Conv2d(512, 512, kernel_size=(3, 3), stride=(1, 1), padding=(1, 1), bias=False)\n",
       "        (bn2): BatchNorm2d(512, eps=1e-05, momentum=0.1, affine=True, track_running_stats=True)\n",
       "        (downsample): Sequential(\n",
       "          (0): Conv2d(256, 512, kernel_size=(1, 1), stride=(2, 2), bias=False)\n",
       "          (1): BatchNorm2d(512, eps=1e-05, momentum=0.1, affine=True, track_running_stats=True)\n",
       "        )\n",
       "      )\n",
       "      (1): BasicBlock(\n",
       "        (conv1): Conv2d(512, 512, kernel_size=(3, 3), stride=(1, 1), padding=(1, 1), bias=False)\n",
       "        (bn1): BatchNorm2d(512, eps=1e-05, momentum=0.1, affine=True, track_running_stats=True)\n",
       "        (relu): ReLU(inplace)\n",
       "        (conv2): Conv2d(512, 512, kernel_size=(3, 3), stride=(1, 1), padding=(1, 1), bias=False)\n",
       "        (bn2): BatchNorm2d(512, eps=1e-05, momentum=0.1, affine=True, track_running_stats=True)\n",
       "      )\n",
       "    )\n",
       "  )\n",
       "  (1): Sequential(\n",
       "    (0): AdaptiveAvgPool2d(output_size=1)\n",
       "    (1): Lambda()\n",
       "    (2): Linear(in_features=512, out_features=340, bias=True)\n",
       "  )\n",
       ")"
      ]
     },
     "execution_count": 22,
     "metadata": {},
     "output_type": "execute_result"
    }
   ],
   "source": [
    "learn.model.eval()"
   ]
  },
  {
   "cell_type": "markdown",
   "metadata": {},
   "source": [
    "### Train the model"
   ]
  },
  {
   "cell_type": "code",
   "execution_count": 23,
   "metadata": {},
   "outputs": [],
   "source": [
    "name = f'{model_name}-{sz}'"
   ]
  },
  {
   "cell_type": "code",
   "execution_count": 24,
   "metadata": {},
   "outputs": [
    {
     "name": "stdout",
     "output_type": "stream",
     "text": [
      "LR Finder is complete, type {learner_name}.recorder.plot() to see the graph.\n"
     ]
    },
    {
     "data": {
      "image/png": "[encoded data removed]",
      "text/plain": [
       "<Figure size 432x288 with 1 Axes>"
      ]
     },
     "metadata": {
      "needs_background": "light"
     },
     "output_type": "display_data"
    }
   ],
   "source": [
    "learn.lr_find()\n",
    "learn.recorder.plot()"
   ]
  },
  {
   "cell_type": "code",
   "execution_count": 25,
   "metadata": {},
   "outputs": [],
   "source": [
    "lr = 1e-2"
   ]
  },
  {
   "cell_type": "code",
   "execution_count": 26,
   "metadata": {},
   "outputs": [
    {
     "name": "stdout",
     "output_type": "stream",
     "text": [
      "Total time: 17:36:45\n",
      "epoch  train_loss  valid_loss  accuracy  map3    \n",
      "1      0.817358    0.847132    0.777118  0.840279  (4:23:41)\n",
      "2      0.782329    0.800338    0.787706  0.849358  (4:23:28)\n",
      "3      0.687505    0.694399    0.815824  0.870549  (4:24:33)\n",
      "4      0.610510    0.612972    0.836382  0.886265  (4:25:01)\n",
      "\n"
     ]
    }
   ],
   "source": [
    "learn.fit_one_cycle(4, lr)"
   ]
  },
  {
   "cell_type": "code",
   "execution_count": 27,
   "metadata": {},
   "outputs": [],
   "source": [
    "learn.save(f'{name}-scratch-1')"
   ]
  },
  {
   "cell_type": "markdown",
   "metadata": {},
   "source": [
    "### Fine-tuning with larger images\n",
    "\n",
    "As it is not possible to change the batch size easily with fastai, the batch size set at the beginning takes into account the model to work with below image size too"
   ]
  },
  {
   "cell_type": "code",
   "execution_count": 28,
   "metadata": {},
   "outputs": [],
   "source": [
    "sz = 128+16"
   ]
  },
  {
   "cell_type": "code",
   "execution_count": 29,
   "metadata": {},
   "outputs": [
    {
     "name": "stdout",
     "output_type": "stream",
     "text": [
      "LR Finder is complete, type {learner_name}.recorder.plot() to see the graph.\n"
     ]
    },
    {
     "data": {
      "image/png": "[encoded data removed]",
      "text/plain": [
       "<Figure size 432x288 with 1 Axes>"
      ]
     },
     "metadata": {
      "needs_background": "light"
     },
     "output_type": "display_data"
    }
   ],
   "source": [
    "learn.lr_find(end_lr=2e-1)\n",
    "learn.recorder.plot()"
   ]
  },
  {
   "cell_type": "code",
   "execution_count": 30,
   "metadata": {},
   "outputs": [],
   "source": [
    "lr = 1e-3"
   ]
  },
  {
   "cell_type": "code",
   "execution_count": 31,
   "metadata": {},
   "outputs": [
    {
     "name": "stdout",
     "output_type": "stream",
     "text": [
      "Total time: 6:08:20\n",
      "epoch  train_loss  valid_loss  accuracy  map3    \n",
      "1      0.593504    0.579562    0.844088  0.892059  (6:08:20)\n",
      "\n"
     ]
    }
   ],
   "source": [
    "learn.fit_one_cycle(1, lr)"
   ]
  },
  {
   "cell_type": "code",
   "execution_count": 32,
   "metadata": {},
   "outputs": [],
   "source": [
    "learn.save(f'{name}-scratch-2')"
   ]
  },
  {
   "cell_type": "markdown",
   "metadata": {},
   "source": [
    "### Predict"
   ]
  },
  {
   "cell_type": "code",
   "execution_count": 33,
   "metadata": {},
   "outputs": [],
   "source": [
    "preds, _ = learn.get_preds(ds_type=DatasetType.Test)"
   ]
  },
  {
   "cell_type": "code",
   "execution_count": 34,
   "metadata": {},
   "outputs": [],
   "source": [
    "create_submission(preds, data_bunch.test_dl, name, classes)"
   ]
  },
  {
   "cell_type": "code",
   "execution_count": 35,
   "metadata": {},
   "outputs": [],
   "source": [
    "# !kaggle competitions submit -c quickdraw-doodle-recognition -f subs/{name}.csv.gz -m \"{name}\""
   ]
  },
  {
   "cell_type": "markdown",
   "metadata": {},
   "source": [
    "### Sanity check"
   ]
  },
  {
   "cell_type": "code",
   "execution_count": 36,
   "metadata": {},
   "outputs": [
    {
     "data": {
      "text/html": [
       "<div>\n",
       "<style scoped>\n",
       "    .dataframe tbody tr th:only-of-type {\n",
       "        vertical-align: middle;\n",
       "    }\n",
       "\n",
       "    .dataframe tbody tr th {\n",
       "        vertical-align: top;\n",
       "    }\n",
       "\n",
       "    .dataframe thead th {\n",
       "        text-align: right;\n",
       "    }\n",
       "</style>\n",
       "<table border=\"1\" class=\"dataframe\">\n",
       "  <thead>\n",
       "    <tr style=\"text-align: right;\">\n",
       "      <th></th>\n",
       "      <th>key_id</th>\n",
       "      <th>word</th>\n",
       "    </tr>\n",
       "  </thead>\n",
       "  <tbody>\n",
       "    <tr>\n",
       "      <th>0</th>\n",
       "      <td>9000003627287624</td>\n",
       "      <td>radio stereo stove</td>\n",
       "    </tr>\n",
       "    <tr>\n",
       "      <th>1</th>\n",
       "      <td>9000010688666847</td>\n",
       "      <td>hockey_puck bottlecap pool</td>\n",
       "    </tr>\n",
       "    <tr>\n",
       "      <th>2</th>\n",
       "      <td>9000023642890129</td>\n",
       "      <td>The_Great_Wall_of_China castle camel</td>\n",
       "    </tr>\n",
       "    <tr>\n",
       "      <th>3</th>\n",
       "      <td>9000038588854897</td>\n",
       "      <td>mountain tent The_Eiffel_Tower</td>\n",
       "    </tr>\n",
       "    <tr>\n",
       "      <th>4</th>\n",
       "      <td>9000052667981386</td>\n",
       "      <td>fireplace campfire fire_hydrant</td>\n",
       "    </tr>\n",
       "    <tr>\n",
       "      <th>5</th>\n",
       "      <td>9000057427034623</td>\n",
       "      <td>fence jail spreadsheet</td>\n",
       "    </tr>\n",
       "    <tr>\n",
       "      <th>6</th>\n",
       "      <td>9000065506980882</td>\n",
       "      <td>wine_glass hourglass cup</td>\n",
       "    </tr>\n",
       "    <tr>\n",
       "      <th>7</th>\n",
       "      <td>9000087586309806</td>\n",
       "      <td>submarine dolphin lobster</td>\n",
       "    </tr>\n",
       "    <tr>\n",
       "      <th>8</th>\n",
       "      <td>9000092580281382</td>\n",
       "      <td>bracelet hand wristwatch</td>\n",
       "    </tr>\n",
       "    <tr>\n",
       "      <th>9</th>\n",
       "      <td>9000096661653918</td>\n",
       "      <td>hourglass vase wine_glass</td>\n",
       "    </tr>\n",
       "    <tr>\n",
       "      <th>10</th>\n",
       "      <td>9000102548572430</td>\n",
       "      <td>octopus octagon snowflake</td>\n",
       "    </tr>\n",
       "    <tr>\n",
       "      <th>11</th>\n",
       "      <td>9000109525154374</td>\n",
       "      <td>stove oven dishwasher</td>\n",
       "    </tr>\n",
       "    <tr>\n",
       "      <th>12</th>\n",
       "      <td>9000117423882596</td>\n",
       "      <td>squiggle roller_coaster snake</td>\n",
       "    </tr>\n",
       "    <tr>\n",
       "      <th>13</th>\n",
       "      <td>9000118400618039</td>\n",
       "      <td>string_bean sandwich peas</td>\n",
       "    </tr>\n",
       "    <tr>\n",
       "      <th>14</th>\n",
       "      <td>9000119463725679</td>\n",
       "      <td>harp cello violin</td>\n",
       "    </tr>\n",
       "    <tr>\n",
       "      <th>15</th>\n",
       "      <td>9000156567772007</td>\n",
       "      <td>shorts underwear pants</td>\n",
       "    </tr>\n",
       "    <tr>\n",
       "      <th>16</th>\n",
       "      <td>9000159584429954</td>\n",
       "      <td>sailboat cruise_ship speedboat</td>\n",
       "    </tr>\n",
       "    <tr>\n",
       "      <th>17</th>\n",
       "      <td>9000161602785100</td>\n",
       "      <td>hospital church ambulance</td>\n",
       "    </tr>\n",
       "    <tr>\n",
       "      <th>18</th>\n",
       "      <td>9000182604013479</td>\n",
       "      <td>giraffe clarinet roller_coaster</td>\n",
       "    </tr>\n",
       "    <tr>\n",
       "      <th>19</th>\n",
       "      <td>9000183669464573</td>\n",
       "      <td>shark dragon crocodile</td>\n",
       "    </tr>\n",
       "  </tbody>\n",
       "</table>\n",
       "</div>"
      ],
      "text/plain": [
       "              key_id                                  word\n",
       "0   9000003627287624                    radio stereo stove\n",
       "1   9000010688666847            hockey_puck bottlecap pool\n",
       "2   9000023642890129  The_Great_Wall_of_China castle camel\n",
       "3   9000038588854897        mountain tent The_Eiffel_Tower\n",
       "4   9000052667981386       fireplace campfire fire_hydrant\n",
       "5   9000057427034623                fence jail spreadsheet\n",
       "6   9000065506980882              wine_glass hourglass cup\n",
       "7   9000087586309806             submarine dolphin lobster\n",
       "8   9000092580281382              bracelet hand wristwatch\n",
       "9   9000096661653918             hourglass vase wine_glass\n",
       "10  9000102548572430             octopus octagon snowflake\n",
       "11  9000109525154374                 stove oven dishwasher\n",
       "12  9000117423882596         squiggle roller_coaster snake\n",
       "13  9000118400618039             string_bean sandwich peas\n",
       "14  9000119463725679                     harp cello violin\n",
       "15  9000156567772007                shorts underwear pants\n",
       "16  9000159584429954        sailboat cruise_ship speedboat\n",
       "17  9000161602785100             hospital church ambulance\n",
       "18  9000182604013479       giraffe clarinet roller_coaster\n",
       "19  9000183669464573                shark dragon crocodile"
      ]
     },
     "execution_count": 36,
     "metadata": {},
     "output_type": "execute_result"
    }
   ],
   "source": [
    "result = pd.read_csv(f'{name}.csv.gz')\n",
    "result.head(20)"
   ]
  },
  {
   "cell_type": "code",
   "execution_count": 37,
   "metadata": {
    "scrolled": false
   },
   "outputs": [
    {
     "data": {
      "image/png": "[encoded data removed]",
      "text/plain": [
       "<Figure size 216x216 with 1 Axes>"
      ]
     },
     "metadata": {
      "needs_background": "light"
     },
     "output_type": "display_data"
    },
    {
     "data": {
      "image/png": "[encoded data removed]",
      "text/plain": [
       "<Figure size 216x216 with 1 Axes>"
      ]
     },
     "metadata": {
      "needs_background": "light"
     },
     "output_type": "display_data"
    },
    {
     "data": {
      "image/png": "[encoded data removed]",
      "text/plain": [
       "<Figure size 216x216 with 1 Axes>"
      ]
     },
     "metadata": {
      "needs_background": "light"
     },
     "output_type": "display_data"
    },
    {
     "data": {
      "image/png": "[encoded data removed]",
      "text/plain": [
       "<Figure size 216x216 with 1 Axes>"
      ]
     },
     "metadata": {
      "needs_background": "light"
     },
     "output_type": "display_data"
    },
    {
     "data": {
      "image/png": "[encoded data removed]",
      "text/plain": [
       "<Figure size 216x216 with 1 Axes>"
      ]
     },
     "metadata": {
      "needs_background": "light"
     },
     "output_type": "display_data"
    },
    {
     "data": {
      "image/png": "[encoded data removed]",
      "text/plain": [
       "<Figure size 216x216 with 1 Axes>"
      ]
     },
     "metadata": {
      "needs_background": "light"
     },
     "output_type": "display_data"
    },
    {
     "data": {
      "image/png": "[encoded data removed]",
      "text/plain": [
       "<Figure size 216x216 with 1 Axes>"
      ]
     },
     "metadata": {
      "needs_background": "light"
     },
     "output_type": "display_data"
    },
    {
     "data": {
      "image/png": "[encoded data removed]",
      "text/plain": [
       "<Figure size 216x216 with 1 Axes>"
      ]
     },
     "metadata": {
      "needs_background": "light"
     },
     "output_type": "display_data"
    },
    {
     "data": {
      "image/png": "[encoded data removed]",
      "text/plain": [
       "<Figure size 216x216 with 1 Axes>"
      ]
     },
     "metadata": {
      "needs_background": "light"
     },
     "output_type": "display_data"
    },
    {
     "data": {
      "image/png": "[encoded data removed]",
      "text/plain": [
       "<Figure size 216x216 with 1 Axes>"
      ]
     },
     "metadata": {
      "needs_background": "light"
     },
     "output_type": "display_data"
    },
    {
     "data": {
      "image/png": "[encoded data removed]",
      "text/plain": [
       "<Figure size 216x216 with 1 Axes>"
      ]
     },
     "metadata": {
      "needs_background": "light"
     },
     "output_type": "display_data"
    }
   ],
   "source": [
    "for i, (index, row) in enumerate(result.iterrows()):\n",
    "    create_func(row.key_id).show(title=f'{row.key_id}\\n{row.word}')\n",
    "    if i == 10:\n",
    "        break"
   ]
  },
  {
   "cell_type": "markdown",
   "metadata": {},
   "source": [
    "### Save elements for Ensembling"
   ]
  },
  {
   "cell_type": "code",
   "execution_count": 38,
   "metadata": {},
   "outputs": [],
   "source": [
    "torch.save(preds, f'{name}-raw_predictions.pt')"
   ]
  },
  {
   "cell_type": "code",
   "execution_count": 39,
   "metadata": {},
   "outputs": [],
   "source": [
    "sub = pd.DataFrame(preds.numpy(), index=test_dl.dataset.x.items, columns=classes)\n",
    "sub.to_csv(f'{name}-raw-predictions.csv.gz', compression='gzip')"
   ]
  }
 ],
 "metadata": {
  "kernelspec": {
   "display_name": "Python 3",
   "language": "python",
   "name": "python3"
  },
  "language_info": {
   "codemirror_mode": {
    "name": "ipython",
    "version": 3
   },
   "file_extension": ".py",
   "mimetype": "text/x-python",
   "name": "python",
   "nbconvert_exporter": "python",
   "pygments_lexer": "ipython3",
   "version": "3.6.6"
  }
 },
 "nbformat": 4,
 "nbformat_minor": 2
}
